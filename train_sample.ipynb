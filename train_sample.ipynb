{
 "cells": [
  {
   "cell_type": "code",
   "execution_count": 3,
   "metadata": {},
   "outputs": [],
   "source": [
    "import pandas as pd\n",
    "import numpy as np\n",
    "import matplotlib.pyplot as plt\n",
    "import seaborn as sns\n",
    "from scipy.stats import skew,norm\n",
    "from scipy import interpolate\n",
    "from sklearn.feature_selection import VarianceThreshold\n",
    "from sklearn.model_selection import cross_val_score\n",
    "from sklearn.preprocessing import StandardScaler\n",
    "from sklearn.feature_selection import SelectFromModel\n",
    "from sklearn.model_selection import GridSearchCV,train_test_split,KFold\n",
    "from sklearn.metrics import explained_variance_score, mean_absolute_error, mean_squared_error, r2_score,accuracy_score, roc_curve, auc\n",
    "from sklearn.metrics import classification_report\n",
    "from sklearn.linear_model import LogisticRegression\n",
    "from sklearn.metrics import roc_auc_score\n",
    "from sklearn.metrics import roc_curve\n",
    "from sklearn.metrics import confusion_matrix"
   ]
  },
  {
   "cell_type": "code",
   "execution_count": 4,
   "metadata": {},
   "outputs": [],
   "source": [
    "#load data\n",
    "data = pd.read_csv('feature.csv')\n",
    "y = pd.read_csv('label.csv')\n",
    "data = pd.merge(y, data, on='APPLICATION_ID')\n",
    "y_label = y['DEFAULT_LABEL']"
   ]
  },
  {
   "cell_type": "code",
   "execution_count": 5,
   "metadata": {},
   "outputs": [
    {
     "data": {
      "text/plain": [
       "1543"
      ]
     },
     "execution_count": 5,
     "metadata": {},
     "output_type": "execute_result"
    }
   ],
   "source": [
    "sum(y_label)"
   ]
  },
  {
   "cell_type": "code",
   "execution_count": 6,
   "metadata": {},
   "outputs": [],
   "source": [
    "#load test data\n",
    "data_test = pd.read_csv(r'D:\\22CD80\\Que\\data\\test\\feature.csv')\n",
    "y_test = pd.read_csv(r'D:\\22CD80\\Que\\data\\test\\label.csv')\n",
    "y_labeltest = y_test['DEFAULT_LABEL']\n",
    "data_test = pd.merge(y_test, data_test, on='APPLICATION_ID')"
   ]
  },
  {
   "cell_type": "code",
   "execution_count": 7,
   "metadata": {},
   "outputs": [],
   "source": [
    "#missing data（前端不需要，当这个代码块不存在）\n",
    "X = data.copy()\n",
    "X_na = (X.isnull().sum()/ len(X)) * 100\n",
    "X_na = X_na.drop(X_na[X_na<=25].index).sort_values(ascending = False)\n",
    "missing_data =pd.DataFrame({'Missing Raio(%)':X_na})"
   ]
  },
  {
   "cell_type": "code",
   "execution_count": 8,
   "metadata": {},
   "outputs": [],
   "source": [
    "#删除缺失25%以上的，前端也不用管\n",
    "X_del = list()\n",
    "X_del = X_na.index.tolist()\n",
    "for i in X_del:\n",
    "    data = data.drop(i,axis=1)\n",
    "    data_test = data_test.drop(i,axis=1)"
   ]
  },
  {
   "cell_type": "code",
   "execution_count": 9,
   "metadata": {},
   "outputs": [],
   "source": [
    "#前端print(\"after deleting the missing data, your dataset has 73500 rows, 378 columns left.\")"
   ]
  },
  {
   "cell_type": "code",
   "execution_count": 10,
   "metadata": {},
   "outputs": [],
   "source": [
    "#前端不用管\n",
    "data = data.drop(['APPLICATION_ID','DEFAULT_LABEL'],axis=1)\n",
    "data_test = data_test.drop(['APPLICATION_ID','DEFAULT_LABEL'],axis=1)"
   ]
  },
  {
   "cell_type": "code",
   "execution_count": 11,
   "metadata": {},
   "outputs": [
    {
     "data": {
      "text/plain": [
       "APPLICATION_DATE    False\n",
       "v006                False\n",
       "v007                False\n",
       "v014                False\n",
       "v017                False\n",
       "                    ...  \n",
       "v989                False\n",
       "v990                False\n",
       "v996                False\n",
       "v997                False\n",
       "v999                False\n",
       "Length: 376, dtype: bool"
      ]
     },
     "execution_count": 11,
     "metadata": {},
     "output_type": "execute_result"
    }
   ],
   "source": [
    "#差值填补，前端不用管\n",
    "for col in data.columns.values.tolist():\n",
    "    data[col] = data[col].interpolate()\n",
    "for col in data.columns.values.tolist():\n",
    "    data[col] = data[col].fillna(-99)\n",
    "data.isnull().any() "
   ]
  },
  {
   "cell_type": "code",
   "execution_count": 12,
   "metadata": {},
   "outputs": [
    {
     "data": {
      "text/plain": [
       "APPLICATION_DATE    False\n",
       "v006                False\n",
       "v007                False\n",
       "v014                False\n",
       "v017                False\n",
       "                    ...  \n",
       "v989                False\n",
       "v990                False\n",
       "v996                False\n",
       "v997                False\n",
       "v999                False\n",
       "Length: 376, dtype: bool"
      ]
     },
     "execution_count": 12,
     "metadata": {},
     "output_type": "execute_result"
    }
   ],
   "source": [
    "#差值填补，前端不用管\n",
    "for col in data_test.columns.values.tolist():\n",
    "    data_test[col] = data_test[col].interpolate()\n",
    "for col in data_test.columns.values.tolist():\n",
    "    data_test[col] = data_test[col].fillna(-99)\n",
    "data.isnull().any() "
   ]
  },
  {
   "cell_type": "code",
   "execution_count": 13,
   "metadata": {},
   "outputs": [],
   "source": [
    "#prepare training dataset and testing dataset（前端不用管）\n",
    "data['label']=y['DEFAULT_LABEL']\n",
    "data_true = data[data['label']==1]\n",
    "data_false = data[data['label']==0]\n",
    "data = data.drop(['label'],axis = 1)\n",
    "#sampling the inbalanced dataset\n",
    "data_true_sample = data_true.sample(n=30000, replace=True, axis=0)\n",
    "data_false_sample = data_false.sample(n=30000, replace=True, axis=0)\n",
    "data_train = pd.concat([data_true_sample,data_false_sample],axis = 0)\n",
    "y_train = data_train['label']\n",
    "data_train = data_train.drop(['label'],axis = 1)"
   ]
  },
  {
   "cell_type": "code",
   "execution_count": 14,
   "metadata": {},
   "outputs": [],
   "source": [
    "#model traning\n",
    "from xgboost import XGBClassifier,XGBRegressor\n",
    "from xgboost import plot_importance\n",
    "import lightgbm as lgb"
   ]
  },
  {
   "cell_type": "code",
   "execution_count": 15,
   "metadata": {},
   "outputs": [],
   "source": [
    "def xgbclassify(trainx,trainy,testx):\n",
    "    t = XGBClassifier(learning_rate=0.01,\n",
    "                  n_estimators=200,\n",
    "                  max_depth=4,\n",
    "                  min_child_weight=0.85,\n",
    "                  gamma=0,\n",
    "                  subsample=0.7,\n",
    "                  eval_metric='auc')\n",
    "    t.fit(trainx,trainy)\n",
    "    y_pre = t.predict(testx)\n",
    "    probas = t.predict_proba(testx)[:,1]\n",
    "    return y_pre,probas"
   ]
  },
  {
   "cell_type": "code",
   "execution_count": 16,
   "metadata": {},
   "outputs": [
    {
     "name": "stderr",
     "output_type": "stream",
     "text": [
      "D:\\anaconda\\lib\\site-packages\\xgboost\\sklearn.py:1224: UserWarning: The use of label encoder in XGBClassifier is deprecated and will be removed in a future release. To remove this warning, do the following: 1) Pass option use_label_encoder=False when constructing XGBClassifier object; and 2) Encode your labels (y) as integers starting with 0, i.e. 0, 1, 2, ..., [num_class - 1].\n",
      "  warnings.warn(label_encoder_deprecation_msg, UserWarning)\n"
     ]
    }
   ],
   "source": [
    "y_pre= []\n",
    "probas = []\n",
    "y_pre , probas = xgbclassify(data_train,y_train,data_test)"
   ]
  },
  {
   "cell_type": "code",
   "execution_count": 17,
   "metadata": {},
   "outputs": [],
   "source": [
    "#画ROC曲线的数据，df的第一列fpr是横轴，第二列tpr是纵轴\n",
    "fpr, tpr, _ = roc_curve(y_labeltest, probas)\n",
    "Roc_curve = {}\n",
    "Roc_curve = {'fpr':fpr,'tpr':tpr}\n",
    "df_roc = pd.DataFrame(Roc_curve)"
   ]
  },
  {
   "cell_type": "code",
   "execution_count": 18,
   "metadata": {},
   "outputs": [
    {
     "data": {
      "image/png": "[encoded data removed]",
      "text/plain": [
       "<Figure size 432x288 with 2 Axes>"
      ]
     },
     "metadata": {},
     "output_type": "display_data"
    }
   ],
   "source": [
    "def plot_confusion_matrix(cm, title='Confusion Matrix'):\n",
    "    sns.set()\n",
    "    f,ax=plt.subplots()\n",
    "    sns.heatmap(cm,annot=True,ax=ax, cmap=\"Greens\", fmt=\"4d\") #画热力图\n",
    "\n",
    "    ax.set_title('confusion matrix') #标题\n",
    "    ax.set_xlabel('predict') #x轴\n",
    "    ax.set_ylabel('true') #y轴\n",
    "    ax.set_xticks \n",
    "    \n",
    "    plt.show()\n",
    "\n",
    "#得到混淆矩阵\n",
    "cm = confusion_matrix(y_labeltest,y_pre,labels=[0,1])\n",
    "\n",
    "#调用函数，绘制混淆矩阵图\n",
    "plot_confusion_matrix(cm )"
   ]
  },
  {
   "cell_type": "code",
   "execution_count": 27,
   "metadata": {},
   "outputs": [
    {
     "name": "stderr",
     "output_type": "stream",
     "text": [
      "D:\\anaconda\\lib\\site-packages\\xgboost\\sklearn.py:1224: UserWarning: The use of label encoder in XGBClassifier is deprecated and will be removed in a future release. To remove this warning, do the following: 1) Pass option use_label_encoder=False when constructing XGBClassifier object; and 2) Encode your labels (y) as integers starting with 0, i.e. 0, 1, 2, ..., [num_class - 1].\n",
      "  warnings.warn(label_encoder_deprecation_msg, UserWarning)\n"
     ]
    }
   ],
   "source": [
    "t = XGBClassifier(learning_rate=0.01,\n",
    "                  n_estimators=200,\n",
    "                  max_depth=4,\n",
    "                  min_child_weight=0.85,\n",
    "                  gamma=0,\n",
    "                  subsample=0.7,\n",
    "                  eval_metric='auc').fit(data_train,y_train)\n",
    "model = SelectFromModel(t,prefit=True,threshold = 0.003)\n",
    "feature_idx = model.get_support()\n",
    "feature_name = data_train.columns[feature_idx]\n",
    "feature_name = feature_name.tolist()"
   ]
  },
  {
   "cell_type": "code",
   "execution_count": 147,
   "metadata": {},
   "outputs": [],
   "source": [
    "#画柱状图的，fplot是画图用的数据\n",
    "col = list(data_train.columns)\n",
    "lis = list(t.feature_importances_)\n",
    "f_importance = pd.DataFrame(columns = ['col','lis'])\n",
    "f_importance['col'] = col\n",
    "f_importance['lis'] = lis\n",
    "f_importance = f_importance.sort_values(by='lis',ascending=False)\n",
    "f_plot = f_importance.iloc[0:15,:]"
   ]
  },
  {
   "cell_type": "code",
   "execution_count": 29,
   "metadata": {},
   "outputs": [],
   "source": [
    "names = []\n",
    "for i in feature_name:\n",
    "    names.append(i)\n",
    "new_model = data_train.loc[:,names]\n",
    "transfer = StandardScaler()\n",
    "new_model = pd.DataFrame(transfer.fit_transform(new_model))\n",
    "new_model.columns = names"
   ]
  },
  {
   "cell_type": "code",
   "execution_count": 30,
   "metadata": {},
   "outputs": [],
   "source": [
    "names = []\n",
    "for i in feature_name:\n",
    "    names.append(i)\n",
    "test_new_model = data_test.loc[:,names]\n",
    "transfer = StandardScaler()\n",
    "test_new_model = pd.DataFrame(transfer.fit_transform(test_new_model))\n",
    "test_new_model.columns = names"
   ]
  },
  {
   "cell_type": "code",
   "execution_count": 135,
   "metadata": {},
   "outputs": [],
   "source": [
    "def clfclassify(trainx,trainy,testx):#这个模型和上个模型的训练集不一样，注意参数\n",
    "    clf = lgb.LGBMClassifier(\n",
    "        max_depth=4, n_estimators=200,subsample_freq=2,\n",
    "        subsample=0.6, colsample_bytree=0.5, \n",
    "        learning_rate=0.02, min_child_weight=0.7, n_jobs=-1,min_data_in_leaf =500, scale_pos_weight=1,metric='auc'\n",
    "    )\n",
    "    clf.fit(trainx,trainy)\n",
    "    y_pre = clf.predict(testx)\n",
    "    probas = clf.predict_proba(testx)\n",
    "    return y_pre,probas"
   ]
  },
  {
   "cell_type": "code",
   "execution_count": 139,
   "metadata": {},
   "outputs": [],
   "source": [
    "#画新ROC曲线的数据，df的第一列fpr是横轴，第二列tpr是纵轴\n",
    "fpr2, tpr2, _ = roc_curve(y_labeltest, probas)\n",
    "Roc_curve2 = {}\n",
    "Roc_curve2 = {'fpr2':fpr2,'tpr2':tpr2}\n",
    "df_roc2 = pd.DataFrame(Roc_curve2)"
   ]
  },
  {
   "cell_type": "code",
   "execution_count": 137,
   "metadata": {},
   "outputs": [],
   "source": [
    "y_pre_new = []\n",
    "probas_new = []\n",
    "y_pre_new , probas_new = clfclassify(new_model,y_train,test_new_model)#这个模型的参数在这里"
   ]
  },
  {
   "cell_type": "code",
   "execution_count": 138,
   "metadata": {},
   "outputs": [
    {
     "data": {
      "text/plain": [
       "0.6582247556210644"
      ]
     },
     "execution_count": 138,
     "metadata": {},
     "output_type": "execute_result"
    }
   ],
   "source": [
    "roc_auc_score(y_labeltest,probas_new[:,1])"
   ]
  },
  {
   "cell_type": "code",
   "execution_count": 98,
   "metadata": {},
   "outputs": [
    {
     "data": {
      "image/png": "[encoded data removed]",
      "text/plain": [
       "<Figure size 432x288 with 2 Axes>"
      ]
     },
     "metadata": {},
     "output_type": "display_data"
    }
   ],
   "source": [
    "cm = confusion_matrix(y_labeltest,y_pre_new,labels=[0,1])\n",
    "\n",
    "#调用函数，绘制混淆矩阵图d\n",
    "plot_confusion_matrix(cm )"
   ]
  },
  {
   "cell_type": "code",
   "execution_count": 92,
   "metadata": {},
   "outputs": [],
   "source": [
    "data_t = pd.read_csv(r'D:\\22CD80\\final_submission\\feature.csv')\n",
    "y_t = pd.read_csv(r'D:\\22CD80\\final_submission\\sample_submission.csv')\n",
    "data_t = pd.merge(y_t, data_t, on='APPLICATION_ID')"
   ]
  },
  {
   "cell_type": "code",
   "execution_count": 94,
   "metadata": {},
   "outputs": [],
   "source": [
    "data_t = data_t.drop(['APPLICATION_ID'],axis=1)"
   ]
  },
  {
   "cell_type": "code",
   "execution_count": 95,
   "metadata": {},
   "outputs": [],
   "source": [
    "X_del = list()\n",
    "X_del = X_na.index.tolist()\n",
    "for i in X_del:\n",
    "    data_t = data_t.drop(i,axis=1)\n",
    "  "
   ]
  },
  {
   "cell_type": "code",
   "execution_count": 96,
   "metadata": {},
   "outputs": [
    {
     "data": {
      "text/plain": [
       "APPLICATION_DATE    False\n",
       "0                   False\n",
       "1                   False\n",
       "v006                False\n",
       "v007                False\n",
       "                    ...  \n",
       "v989                False\n",
       "v990                False\n",
       "v996                False\n",
       "v997                False\n",
       "v999                False\n",
       "Length: 378, dtype: bool"
      ]
     },
     "execution_count": 96,
     "metadata": {},
     "output_type": "execute_result"
    }
   ],
   "source": [
    "for col in data_t.columns.values.tolist():\n",
    "    data_t[col] = data_t[col].interpolate()\n",
    "for col in data_t.columns.values.tolist():\n",
    "    data_t[col] = data_t[col].fillna(-99)\n",
    "data_t.isnull().any() "
   ]
  },
  {
   "cell_type": "code",
   "execution_count": 104,
   "metadata": {},
   "outputs": [],
   "source": [
    "names = []\n",
    "for i in feature_name:\n",
    "    names.append(i)\n",
    "t_new_model = data_t.loc[:,names]\n",
    "transfer = StandardScaler()\n",
    "t_new_model = pd.DataFrame(transfer.fit_transform(t_new_model))\n",
    "t_new_model.columns = names"
   ]
  },
  {
   "cell_type": "code",
   "execution_count": 160,
   "metadata": {},
   "outputs": [],
   "source": [
    "y_pre_new , probas_new = clfclassify(new_model,y_train,t_new_model)"
   ]
  },
  {
   "cell_type": "code",
   "execution_count": 161,
   "metadata": {},
   "outputs": [],
   "source": [
    "probas_new = pd.DataFrame(probas_new)"
   ]
  },
  {
   "cell_type": "code",
   "execution_count": 168,
   "metadata": {},
   "outputs": [],
   "source": [
    "pro = pd.DataFrame(columns = ['APPLICATION_ID','APPLICATION_DATE'])\n",
    "pro['APPLICATION_ID'] = y_t['APPLICATION_ID']\n",
    "pro['APPLICATION_DATE'] = y_t['APPLICATION_DATE']"
   ]
  },
  {
   "cell_type": "code",
   "execution_count": 166,
   "metadata": {},
   "outputs": [
    {
     "data": {
      "text/html": [
       "<div>\n",
       "<style scoped>\n",
       "    .dataframe tbody tr th:only-of-type {\n",
       "        vertical-align: middle;\n",
       "    }\n",
       "\n",
       "    .dataframe tbody tr th {\n",
       "        vertical-align: top;\n",
       "    }\n",
       "\n",
       "    .dataframe thead th {\n",
       "        text-align: right;\n",
       "    }\n",
       "</style>\n",
       "<table border=\"1\" class=\"dataframe\">\n",
       "  <thead>\n",
       "    <tr style=\"text-align: right;\">\n",
       "      <th></th>\n",
       "      <th>0</th>\n",
       "      <th>1</th>\n",
       "      <th>APPLICATION_ID</th>\n",
       "      <th>APPLICATION_DATE</th>\n",
       "    </tr>\n",
       "  </thead>\n",
       "  <tbody>\n",
       "    <tr>\n",
       "      <th>0</th>\n",
       "      <td>0.714822</td>\n",
       "      <td>0.285178</td>\n",
       "      <td>e390d2817c393edd7d2ffb9f0938399275b1f135</td>\n",
       "      <td>44375</td>\n",
       "    </tr>\n",
       "    <tr>\n",
       "      <th>1</th>\n",
       "      <td>0.501957</td>\n",
       "      <td>0.498043</td>\n",
       "      <td>99b20a430100265d5668e659e0fa8b994c2f3b0e</td>\n",
       "      <td>44431</td>\n",
       "    </tr>\n",
       "    <tr>\n",
       "      <th>2</th>\n",
       "      <td>0.515994</td>\n",
       "      <td>0.484006</td>\n",
       "      <td>4305a9e16c17a0245bb3af1498805d1451d523b8</td>\n",
       "      <td>44456</td>\n",
       "    </tr>\n",
       "    <tr>\n",
       "      <th>3</th>\n",
       "      <td>0.762755</td>\n",
       "      <td>0.237245</td>\n",
       "      <td>ed0570d18e99e49d338b4510518aeb5aeb97b026</td>\n",
       "      <td>44370</td>\n",
       "    </tr>\n",
       "    <tr>\n",
       "      <th>4</th>\n",
       "      <td>0.594830</td>\n",
       "      <td>0.405170</td>\n",
       "      <td>c926e324c5b2f764608991638d7986ab9e2e5c5d</td>\n",
       "      <td>44356</td>\n",
       "    </tr>\n",
       "    <tr>\n",
       "      <th>...</th>\n",
       "      <td>...</td>\n",
       "      <td>...</td>\n",
       "      <td>...</td>\n",
       "      <td>...</td>\n",
       "    </tr>\n",
       "    <tr>\n",
       "      <th>2995</th>\n",
       "      <td>0.473889</td>\n",
       "      <td>0.526111</td>\n",
       "      <td>eb5481ac1f703dc860b77a86356ffeae90598a84</td>\n",
       "      <td>44426</td>\n",
       "    </tr>\n",
       "    <tr>\n",
       "      <th>2996</th>\n",
       "      <td>0.787901</td>\n",
       "      <td>0.212099</td>\n",
       "      <td>3d80542dce12ba1be6c91348b3bad00d8f4c8300</td>\n",
       "      <td>44386</td>\n",
       "    </tr>\n",
       "    <tr>\n",
       "      <th>2997</th>\n",
       "      <td>0.531993</td>\n",
       "      <td>0.468007</td>\n",
       "      <td>102565e034fbd8f93c696162e14f5ba1b32694f0</td>\n",
       "      <td>44422</td>\n",
       "    </tr>\n",
       "    <tr>\n",
       "      <th>2998</th>\n",
       "      <td>0.517709</td>\n",
       "      <td>0.482291</td>\n",
       "      <td>ac7b4b9a89e5128d8ec6863f35c6bb11d68c2f94</td>\n",
       "      <td>44441</td>\n",
       "    </tr>\n",
       "    <tr>\n",
       "      <th>2999</th>\n",
       "      <td>0.643651</td>\n",
       "      <td>0.356349</td>\n",
       "      <td>cb7621f9dfe7890c2d6b56e7f73f64590f45ff49</td>\n",
       "      <td>44353</td>\n",
       "    </tr>\n",
       "  </tbody>\n",
       "</table>\n",
       "<p>3000 rows × 4 columns</p>\n",
       "</div>"
      ],
      "text/plain": [
       "             0         1                            APPLICATION_ID  \\\n",
       "0     0.714822  0.285178  e390d2817c393edd7d2ffb9f0938399275b1f135   \n",
       "1     0.501957  0.498043  99b20a430100265d5668e659e0fa8b994c2f3b0e   \n",
       "2     0.515994  0.484006  4305a9e16c17a0245bb3af1498805d1451d523b8   \n",
       "3     0.762755  0.237245  ed0570d18e99e49d338b4510518aeb5aeb97b026   \n",
       "4     0.594830  0.405170  c926e324c5b2f764608991638d7986ab9e2e5c5d   \n",
       "...        ...       ...                                       ...   \n",
       "2995  0.473889  0.526111  eb5481ac1f703dc860b77a86356ffeae90598a84   \n",
       "2996  0.787901  0.212099  3d80542dce12ba1be6c91348b3bad00d8f4c8300   \n",
       "2997  0.531993  0.468007  102565e034fbd8f93c696162e14f5ba1b32694f0   \n",
       "2998  0.517709  0.482291  ac7b4b9a89e5128d8ec6863f35c6bb11d68c2f94   \n",
       "2999  0.643651  0.356349  cb7621f9dfe7890c2d6b56e7f73f64590f45ff49   \n",
       "\n",
       "      APPLICATION_DATE  \n",
       "0                44375  \n",
       "1                44431  \n",
       "2                44456  \n",
       "3                44370  \n",
       "4                44356  \n",
       "...                ...  \n",
       "2995             44426  \n",
       "2996             44386  \n",
       "2997             44422  \n",
       "2998             44441  \n",
       "2999             44353  \n",
       "\n",
       "[3000 rows x 4 columns]"
      ]
     },
     "execution_count": 166,
     "metadata": {},
     "output_type": "execute_result"
    }
   ],
   "source": [
    "pro = pd.merge(pro,probas_new)"
   ]
  },
  {
   "cell_type": "code",
   "execution_count": 159,
   "metadata": {},
   "outputs": [
    {
     "data": {
      "text/html": [
       "<div>\n",
       "<style scoped>\n",
       "    .dataframe tbody tr th:only-of-type {\n",
       "        vertical-align: middle;\n",
       "    }\n",
       "\n",
       "    .dataframe tbody tr th {\n",
       "        vertical-align: top;\n",
       "    }\n",
       "\n",
       "    .dataframe thead th {\n",
       "        text-align: right;\n",
       "    }\n",
       "</style>\n",
       "<table border=\"1\" class=\"dataframe\">\n",
       "  <thead>\n",
       "    <tr style=\"text-align: right;\">\n",
       "      <th></th>\n",
       "      <th>APPLICATION_ID</th>\n",
       "      <th>APPLICATION_DATE</th>\n",
       "      <th>0</th>\n",
       "      <th>1</th>\n",
       "    </tr>\n",
       "  </thead>\n",
       "  <tbody>\n",
       "  </tbody>\n",
       "</table>\n",
       "</div>"
      ],
      "text/plain": [
       "Empty DataFrame\n",
       "Columns: [APPLICATION_ID, APPLICATION_DATE, 0, 1]\n",
       "Index: []"
      ]
     },
     "execution_count": 159,
     "metadata": {},
     "output_type": "execute_result"
    }
   ],
   "source": [
    "probas_new"
   ]
  },
  {
   "cell_type": "code",
   "execution_count": 148,
   "metadata": {},
   "outputs": [],
   "source": [
    "prob = pd.DataFrame(columns = ['APPLICATION_ID','APPLICATION_DATE','0','1'])\n",
    "prob['APPLICATION_ID'] = y_t['APPLICATION_ID']\n",
    "prob['APPLICATION_DATE'] = y_t['APPLICATION_DATE']\n",
    "prob['0'] = L1\n",
    "prob['1'] = L2\n",
    "prob.to_csv('submission.csv')"
   ]
  },
  {
   "cell_type": "code",
   "execution_count": null,
   "metadata": {},
   "outputs": [],
   "source": []
  }
 ],
 "metadata": {
  "kernelspec": {
   "display_name": "Python 3",
   "language": "python",
   "name": "python3"
  },
  "language_info": {
   "codemirror_mode": {
    "name": "ipython",
    "version": 3
   },
   "file_extension": ".py",
   "mimetype": "text/x-python",
   "name": "python",
   "nbconvert_exporter": "python",
   "pygments_lexer": "ipython3",
   "version": "3.8.5"
  }
 },
 "nbformat": 4,
 "nbformat_minor": 4
}
